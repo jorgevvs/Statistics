{
 "cells": [
  {
   "cell_type": "code",
   "execution_count": 4,
   "metadata": {},
   "outputs": [],
   "source": [
    "import pandas as pd\n",
    "import numpy as np"
   ]
  },
  {
   "cell_type": "code",
   "execution_count": 5,
   "metadata": {},
   "outputs": [],
   "source": [
    "ser = pd.Series(np.random.randint(1, 10, 35))"
   ]
  },
  {
   "cell_type": "code",
   "execution_count": 6,
   "metadata": {},
   "outputs": [
    {
     "data": {
      "text/plain": [
       "0     6\n",
       "1     2\n",
       "2     9\n",
       "3     4\n",
       "4     7\n",
       "5     7\n",
       "6     2\n",
       "7     1\n",
       "8     9\n",
       "9     4\n",
       "10    9\n",
       "11    6\n",
       "12    7\n",
       "13    9\n",
       "14    3\n",
       "15    5\n",
       "16    4\n",
       "17    9\n",
       "18    9\n",
       "19    8\n",
       "20    6\n",
       "21    8\n",
       "22    2\n",
       "23    3\n",
       "24    7\n",
       "25    8\n",
       "26    2\n",
       "27    7\n",
       "28    9\n",
       "29    1\n",
       "30    6\n",
       "31    6\n",
       "32    4\n",
       "33    1\n",
       "34    6\n",
       "dtype: int32"
      ]
     },
     "execution_count": 6,
     "metadata": {},
     "output_type": "execute_result"
    }
   ],
   "source": [
    "ser"
   ]
  },
  {
   "cell_type": "code",
   "execution_count": 7,
   "metadata": {},
   "outputs": [
    {
     "data": {
      "text/plain": [
       "array([6, 2, 9, 4, 7, 7, 2, 1, 9, 4, 9, 6, 7, 9, 3, 5, 4, 9, 9, 8, 6, 8,\n",
       "       2, 3, 7, 8, 2, 7, 9, 1, 6, 6, 4, 1, 6])"
      ]
     },
     "execution_count": 7,
     "metadata": {},
     "output_type": "execute_result"
    }
   ],
   "source": [
    "ser.values"
   ]
  },
  {
   "cell_type": "code",
   "execution_count": null,
   "metadata": {},
   "outputs": [],
   "source": []
  }
 ],
 "metadata": {
  "kernelspec": {
   "display_name": "Python 3",
   "language": "python",
   "name": "python3"
  },
  "language_info": {
   "codemirror_mode": {
    "name": "ipython",
    "version": 3
   },
   "file_extension": ".py",
   "mimetype": "text/x-python",
   "name": "python",
   "nbconvert_exporter": "python",
   "pygments_lexer": "ipython3",
   "version": "3.8.5"
  }
 },
 "nbformat": 4,
 "nbformat_minor": 4
}
